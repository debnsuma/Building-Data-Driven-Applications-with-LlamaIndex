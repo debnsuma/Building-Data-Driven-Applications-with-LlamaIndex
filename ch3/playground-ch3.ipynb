{
 "cells": [
  {
   "cell_type": "code",
   "execution_count": 2,
   "id": "6bb9446c-03f8-4f05-97b0-54dd31e8ef68",
   "metadata": {},
   "outputs": [],
   "source": [
    "from llama_index.core import ( \n",
    "    VectorStoreIndex,\n",
    "    SimpleDirectoryReader\n",
    ")\n",
    "from llama_index.core.settings import Settings\n",
    "from llama_index.llms.bedrock import Bedrock\n",
    "from llama_index.embeddings.bedrock import BedrockEmbedding\n",
    "\n",
    "# ------------------------------------------------------------------------\n",
    "# LlamaIndex - Amazon Bedrock\n",
    "\n",
    "llm = Bedrock(model = \"amazon.titan-text-express-v1\")\n",
    "embed_model = BedrockEmbedding(model = \"amazon.titan-embed-g1-text-02\")\n",
    "\n",
    "Settings.llm = llm\n",
    "Settings.embed_model = embed_model\n",
    "\n",
    "# documents = SimpleDirectoryReader('files').load_data()\n",
    "# index = VectorStoreIndex.from_documents(documents)\n",
    "# query_engine = index.as_query_engine()\n",
    "\n",
    "\n",
    "# # Perform a query on the documents\n",
    "# response = query_engine.query(\"summarize each document in a few sentences\")\n",
    "# print(response)"
   ]
  },
  {
   "cell_type": "markdown",
   "id": "6159066b-480d-4d9a-a2b6-102e14c40bcf",
   "metadata": {},
   "source": [
    "## Documents"
   ]
  },
  {
   "cell_type": "code",
   "execution_count": 11,
   "id": "f688e054-e312-4a4f-a73c-d009e280ab7d",
   "metadata": {},
   "outputs": [
    {
     "name": "stdout",
     "output_type": "stream",
     "text": [
      "Doc ID: 1\n",
      "Text: The quick brown fox jumps over the lazy dog.\n"
     ]
    }
   ],
   "source": [
    "from llama_index.core import Document\n",
    "text = \"The quick brown fox jumps over the lazy dog.\"\n",
    "doc = Document(\n",
    "    text=text,\n",
    "    metadata={'author': 'John Doe','category': 'others'},\n",
    "    id_='1'\n",
    ")\n",
    "print(doc)"
   ]
  },
  {
   "cell_type": "code",
   "execution_count": 12,
   "id": "cc66fccb-a6e7-4421-872d-26b7ca1c4574",
   "metadata": {},
   "outputs": [
    {
     "name": "stdout",
     "output_type": "stream",
     "text": [
      "Doc ID: a38b1de9-b0aa-46f4-a13e-97bfe039f774\n",
      "Text: The quick brown fox jumps over the lazy dog.\n"
     ]
    }
   ],
   "source": [
    "from llama_index.core import Document\n",
    "text = \"The quick brown fox jumps over the lazy dog.\"\n",
    "doc = Document(\n",
    "    text=text,\n",
    "    metadata={'author': 'John Doe','category': 'others'},\n",
    "    # id_='1'\n",
    ")\n",
    "print(doc)"
   ]
  },
  {
   "cell_type": "code",
   "execution_count": 13,
   "id": "ce901bf2-694a-4b01-9b37-e8122413185b",
   "metadata": {},
   "outputs": [
    {
     "data": {
      "text/plain": [
       "<bound method BaseNode.as_related_node_info of Document(id_='a38b1de9-b0aa-46f4-a13e-97bfe039f774', embedding=None, metadata={'author': 'John Doe', 'category': 'others'}, excluded_embed_metadata_keys=[], excluded_llm_metadata_keys=[], relationships={}, text='The quick brown fox jumps over the lazy dog.', mimetype='text/plain', start_char_idx=None, end_char_idx=None, text_template='{metadata_str}\\n\\n{content}', metadata_template='{key}: {value}', metadata_seperator='\\n')>"
      ]
     },
     "execution_count": 13,
     "metadata": {},
     "output_type": "execute_result"
    }
   ],
   "source": [
    "doc.as_related_node_info"
   ]
  },
  {
   "cell_type": "code",
   "execution_count": 14,
   "id": "cc3fbbb6-6e32-486d-8266-42acd1f5df3b",
   "metadata": {},
   "outputs": [
    {
     "name": "stdout",
     "output_type": "stream",
     "text": [
      "loaded 2 documents\n"
     ]
    }
   ],
   "source": [
    "from llama_index.readers.wikipedia import WikipediaReader\n",
    "\n",
    "loader = WikipediaReader()\n",
    "documents = loader.load_data(\n",
    "    pages=['Pythagorean theorem','General relativity']\n",
    ")\n",
    "print(f\"loaded {len(documents)} documents\")"
   ]
  },
  {
   "cell_type": "code",
   "execution_count": 10,
   "id": "ada2c122-905d-4588-971c-592f6c8a814a",
   "metadata": {},
   "outputs": [
    {
     "data": {
      "text/plain": [
       "2"
      ]
     },
     "execution_count": 10,
     "metadata": {},
     "output_type": "execute_result"
    }
   ],
   "source": [
    "len(documents)"
   ]
  },
  {
   "cell_type": "markdown",
   "id": "6467f2b3-5f78-4196-80d0-243af32aed39",
   "metadata": {},
   "source": [
    "## Manually creating the Node objects"
   ]
  },
  {
   "cell_type": "code",
   "execution_count": 15,
   "id": "607bbbf5-7dd8-487c-bd57-e7c987ea5dc7",
   "metadata": {},
   "outputs": [
    {
     "name": "stdout",
     "output_type": "stream",
     "text": [
      "Node ID: b3124368-a303-4cb6-aea5-21975741ad8b\n",
      "Text: This is a sample\n",
      "Node ID: cad3d291-f310-45c8-93ec-6898bdadc0c0\n",
      "Text: document text\n"
     ]
    }
   ],
   "source": [
    "from llama_index.core import Document\n",
    "from llama_index.core.schema import TextNode\n",
    "\n",
    "doc = Document(text=\"This is a sample document text\")\n",
    "n1 = TextNode(text=doc.text[0:16], doc_id=doc.id_)\n",
    "n2 = TextNode(text=doc.text[17:30], doc_id=doc.id_)\n",
    "print(n1)\n",
    "print(n2)"
   ]
  },
  {
   "cell_type": "code",
   "execution_count": 17,
   "id": "faad4a75-b0d2-48b5-b330-a5e4702d1812",
   "metadata": {},
   "outputs": [
    {
     "name": "stdout",
     "output_type": "stream",
     "text": [
      "Doc ID: 5840b6db-8b13-438a-b0b0-c40a17c7ff4f\n",
      "Text: This is a sample document text\n"
     ]
    }
   ],
   "source": [
    "print(doc)"
   ]
  },
  {
   "cell_type": "code",
   "execution_count": 18,
   "id": "242d928f-7546-4166-99be-ae177ed40e2a",
   "metadata": {},
   "outputs": [
    {
     "data": {
      "text/plain": [
       "TextNode(id_='b3124368-a303-4cb6-aea5-21975741ad8b', embedding=None, metadata={}, excluded_embed_metadata_keys=[], excluded_llm_metadata_keys=[], relationships={}, text='This is a sample', mimetype='text/plain', start_char_idx=None, end_char_idx=None, text_template='{metadata_str}\\n\\n{content}', metadata_template='{key}: {value}', metadata_seperator='\\n')"
      ]
     },
     "execution_count": 18,
     "metadata": {},
     "output_type": "execute_result"
    }
   ],
   "source": [
    "n1"
   ]
  },
  {
   "cell_type": "code",
   "execution_count": 20,
   "id": "8274b5f6-7d00-4f13-ba49-ef488d08a48a",
   "metadata": {},
   "outputs": [
    {
     "data": {
      "text/plain": [
       "'b3124368-a303-4cb6-aea5-21975741ad8b'"
      ]
     },
     "execution_count": 20,
     "metadata": {},
     "output_type": "execute_result"
    }
   ],
   "source": [
    "n1.id_"
   ]
  },
  {
   "cell_type": "code",
   "execution_count": 21,
   "id": "9ae69748-f29e-4634-852f-bdcd1eb5aa04",
   "metadata": {},
   "outputs": [
    {
     "data": {
      "text/plain": [
       "{'id_': 'b3124368-a303-4cb6-aea5-21975741ad8b',\n",
       " 'embedding': None,\n",
       " 'metadata': {},\n",
       " 'excluded_embed_metadata_keys': [],\n",
       " 'excluded_llm_metadata_keys': [],\n",
       " 'relationships': {},\n",
       " 'text': 'This is a sample',\n",
       " 'mimetype': 'text/plain',\n",
       " 'start_char_idx': None,\n",
       " 'end_char_idx': None,\n",
       " 'text_template': '{metadata_str}\\n\\n{content}',\n",
       " 'metadata_template': '{key}: {value}',\n",
       " 'metadata_seperator': '\\n',\n",
       " 'class_name': 'TextNode'}"
      ]
     },
     "execution_count": 21,
     "metadata": {},
     "output_type": "execute_result"
    }
   ],
   "source": [
    "n1.dict()"
   ]
  },
  {
   "cell_type": "code",
   "execution_count": 19,
   "id": "bdb0d1c2-20cf-43a8-80d3-b7c4696353ec",
   "metadata": {},
   "outputs": [
    {
     "data": {
      "text/plain": [
       "Document(id_='5840b6db-8b13-438a-b0b0-c40a17c7ff4f', embedding=None, metadata={}, excluded_embed_metadata_keys=[], excluded_llm_metadata_keys=[], relationships={}, text='This is a sample document text', mimetype='text/plain', start_char_idx=None, end_char_idx=None, text_template='{metadata_str}\\n\\n{content}', metadata_template='{key}: {value}', metadata_seperator='\\n')"
      ]
     },
     "execution_count": 19,
     "metadata": {},
     "output_type": "execute_result"
    }
   ],
   "source": [
    "doc"
   ]
  },
  {
   "cell_type": "markdown",
   "id": "cb8b4216-90fa-4796-878c-fb211307bf16",
   "metadata": {},
   "source": [
    "## Automatically extracting Nodes from Documents using splitters\n"
   ]
  },
  {
   "cell_type": "code",
   "execution_count": 24,
   "id": "f4ff5b71-0a4a-40b8-87e3-655ad078ccc2",
   "metadata": {},
   "outputs": [
    {
     "name": "stdout",
     "output_type": "stream",
     "text": [
      "Metadata length (6) is close to chunk size (12). Resulting chunks are less than 50 tokens. Consider increasing the chunk size or decreasing the size of your metadata to avoid this.\n",
      "This is sentence 1.\n",
      "{'author': 'John Smith'}\n",
      "This is sentence 2.\n",
      "{'author': 'John Smith'}\n",
      "Sentence 3 here.\n",
      "{'author': 'John Smith'}\n"
     ]
    }
   ],
   "source": [
    "from llama_index.core import Document\n",
    "from llama_index.core.node_parser import TokenTextSplitter\n",
    "\n",
    "doc = Document(\n",
    "    text=(\n",
    "    \"This is sentence 1. This is sentence 2. \"\n",
    "    \"Sentence 3 here.\"\n",
    "    ),\n",
    "    metadata={\"author\": \"John Smith\"}\n",
    ")\n",
    "\n",
    "splitter = TokenTextSplitter(\n",
    "    chunk_size=12,\n",
    "    chunk_overlap=0,\n",
    "    separator=\" \"\n",
    ")\n",
    "\n",
    "nodes = splitter.get_nodes_from_documents([doc])\n",
    "\n",
    "for node in nodes:\n",
    "    print(node.text)\n",
    "    print(node.metadata)"
   ]
  },
  {
   "cell_type": "markdown",
   "id": "96377810-264d-4d6b-8c4f-f22fe61bc61c",
   "metadata": {},
   "source": [
    "## Nodes don’t like to be alone – they crave relationships\n"
   ]
  },
  {
   "cell_type": "code",
   "execution_count": 30,
   "id": "059720df-eaef-4cf4-96dd-e7ec16244525",
   "metadata": {},
   "outputs": [],
   "source": []
  },
  {
   "cell_type": "code",
   "execution_count": 31,
   "id": "372eaccc-38b1-45f8-be58-8bee7be5396a",
   "metadata": {},
   "outputs": [
    {
     "name": "stdout",
     "output_type": "stream",
     "text": [
      "{<NodeRelationship.NEXT: '3'>: '825a6a65-b5d7-45ab-ad94-7d6854b0e6f4'}\n",
      "{<NodeRelationship.PREVIOUS: '2'>: 'c3783017-89bf-4210-ad97-cdca85fc68ef'}\n"
     ]
    }
   ],
   "source": [
    "from llama_index.core.schema import TextNode\n",
    "from llama_index.core.schema import NodeRelationship\n",
    "from llama_index.core.schema import RelatedNodeInfo\n",
    "\n",
    "\n",
    "doc = Document(text=\"First sentence. Second Sentence\")\n",
    "n1 = TextNode(text=\"First sentence\", node_id=doc.doc_id)\n",
    "n2 = TextNode(text=\"Second sentence\", node_id=doc.doc_id)\n",
    "\n",
    "n1.relationships[NodeRelationship.NEXT] = n2.node_id\n",
    "n2.relationships[NodeRelationship.PREVIOUS] = n1.node_id\n",
    "\n",
    "print(n1.relationships)\n",
    "print(n2.relationships)\n"
   ]
  },
  {
   "cell_type": "code",
   "execution_count": 33,
   "id": "bf987a25-2ffe-4318-a17b-0661a6b9f96e",
   "metadata": {},
   "outputs": [
    {
     "data": {
      "text/plain": [
       "'c3783017-89bf-4210-ad97-cdca85fc68ef'"
      ]
     },
     "execution_count": 33,
     "metadata": {},
     "output_type": "execute_result"
    }
   ],
   "source": [
    "n1.node_id"
   ]
  },
  {
   "cell_type": "code",
   "execution_count": 34,
   "id": "886e8c6c-8a4a-47f6-9a17-a9bfb9ea456a",
   "metadata": {},
   "outputs": [
    {
     "data": {
      "text/plain": [
       "'825a6a65-b5d7-45ab-ad94-7d6854b0e6f4'"
      ]
     },
     "execution_count": 34,
     "metadata": {},
     "output_type": "execute_result"
    }
   ],
   "source": [
    "n2.node_id"
   ]
  },
  {
   "cell_type": "code",
   "execution_count": 37,
   "id": "a9dec8b3-fe17-4dbc-8e06-540c4c5e0180",
   "metadata": {},
   "outputs": [
    {
     "data": {
      "text/plain": [
       "{'id_': 'c3783017-89bf-4210-ad97-cdca85fc68ef',\n",
       " 'embedding': None,\n",
       " 'metadata': {},\n",
       " 'excluded_embed_metadata_keys': [],\n",
       " 'excluded_llm_metadata_keys': [],\n",
       " 'relationships': {<NodeRelationship.NEXT: '3'>: '825a6a65-b5d7-45ab-ad94-7d6854b0e6f4'},\n",
       " 'text': 'First sentence',\n",
       " 'mimetype': 'text/plain',\n",
       " 'start_char_idx': None,\n",
       " 'end_char_idx': None,\n",
       " 'text_template': '{metadata_str}\\n\\n{content}',\n",
       " 'metadata_template': '{key}: {value}',\n",
       " 'metadata_seperator': '\\n',\n",
       " 'class_name': 'TextNode'}"
      ]
     },
     "execution_count": 37,
     "metadata": {},
     "output_type": "execute_result"
    }
   ],
   "source": [
    "n1.dict()"
   ]
  },
  {
   "cell_type": "markdown",
   "id": "31ac062a-7d39-48e2-ac47-4bc388cedc38",
   "metadata": {},
   "source": [
    "## Indexes"
   ]
  },
  {
   "cell_type": "code",
   "execution_count": null,
   "id": "78c57078-dace-4689-91b6-c95802bf89b6",
   "metadata": {},
   "outputs": [],
   "source": []
  }
 ],
 "metadata": {
  "kernelspec": {
   "display_name": "Python 3 (ipykernel)",
   "language": "python",
   "name": "python3"
  },
  "language_info": {
   "codemirror_mode": {
    "name": "ipython",
    "version": 3
   },
   "file_extension": ".py",
   "mimetype": "text/x-python",
   "name": "python",
   "nbconvert_exporter": "python",
   "pygments_lexer": "ipython3",
   "version": "3.11.9"
  }
 },
 "nbformat": 4,
 "nbformat_minor": 5
}
