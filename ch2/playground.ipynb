{
 "cells": [
  {
   "cell_type": "code",
   "execution_count": 36,
   "id": "d660414a-545d-46cd-a091-3440df173d96",
   "metadata": {},
   "outputs": [
    {
     "name": "stdout",
     "output_type": "stream",
     "text": [
      "The first document talks about the importance of dogs as loyal companions and their diverse breeds. The second document describes the ancient Roman Empire, highlighting its architectural achievements and political system.\n"
     ]
    }
   ],
   "source": [
    "from llama_index.core import ( \n",
    "    VectorStoreIndex,\n",
    "    SimpleDirectoryReader\n",
    ")\n",
    "from llama_index.core.settings import Settings\n",
    "from llama_index.llms.bedrock import Bedrock\n",
    "from llama_index.embeddings.bedrock import BedrockEmbedding\n",
    "\n",
    "# ------------------------------------------------------------------------\n",
    "# LlamaIndex - Amazon Bedrock\n",
    "\n",
    "llm = Bedrock(model = \"amazon.titan-text-express-v1\")\n",
    "embed_model = BedrockEmbedding(model = \"amazon.titan-embed-g1-text-02\")\n",
    "\n",
    "Settings.llm = llm\n",
    "Settings.embed_model = embed_model\n",
    "\n",
    "documents = SimpleDirectoryReader('files').load_data()\n",
    "index = VectorStoreIndex.from_documents(documents)\n",
    "query_engine = index.as_query_engine()\n",
    "\n",
    "\n",
    "# Perform a query on the documents\n",
    "response = query_engine.query(\"summarize each document in a few sentences\")\n",
    "print(response)"
   ]
  },
  {
   "cell_type": "code",
   "execution_count": null,
   "id": "6001a0f6-cf73-446c-bd3a-ac99f47f1078",
   "metadata": {},
   "outputs": [],
   "source": []
  }
 ],
 "metadata": {
  "kernelspec": {
   "display_name": "Python 3 (ipykernel)",
   "language": "python",
   "name": "python3"
  },
  "language_info": {
   "codemirror_mode": {
    "name": "ipython",
    "version": 3
   },
   "file_extension": ".py",
   "mimetype": "text/x-python",
   "name": "python",
   "nbconvert_exporter": "python",
   "pygments_lexer": "ipython3",
   "version": "3.11.9"
  }
 },
 "nbformat": 4,
 "nbformat_minor": 5
}
